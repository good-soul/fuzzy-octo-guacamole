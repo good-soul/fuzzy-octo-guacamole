{
 "cells": [
  {
   "cell_type": "code",
   "execution_count": 1,
   "metadata": {},
   "outputs": [],
   "source": [
    "from PIL import Image\n",
    "import numpy as np\n",
    "\n",
    "w, h = 512, 512\n",
    "data = np.zeros((h, w, 3), dtype=np.uint8)\n",
    "data[256, 256] = [255, 0, 0]\n",
    "img = Image.fromarray(data, 'RGB')\n",
    "# img.save('my.png')\n",
    "# img.show()"
   ]
  },
  {
   "cell_type": "code",
   "execution_count": 2,
   "metadata": {},
   "outputs": [
    {
     "data": {
      "text/plain": [
       "numpy.ndarray"
      ]
     },
     "execution_count": 2,
     "metadata": {},
     "output_type": "execute_result"
    }
   ],
   "source": [
    "type(data)"
   ]
  },
  {
   "cell_type": "code",
   "execution_count": null,
   "metadata": {},
   "outputs": [],
   "source": [
    "from numpy import genfromtxt\n",
    "# all_data = genfromtxt('5Images.csv', delimiter=',')\n",
    "all_data = genfromtxt('Dataset1/csvData/sign_mnist_train.csv', delimiter=',')"
   ]
  },
  {
   "cell_type": "code",
   "execution_count": null,
   "metadata": {},
   "outputs": [],
   "source": [
    "all_data"
   ]
  },
  {
   "cell_type": "code",
   "execution_count": 100,
   "metadata": {},
   "outputs": [
    {
     "data": {
      "text/plain": [
       "array([[ 6.],\n",
       "       [ 5.],\n",
       "       [10.],\n",
       "       ...,\n",
       "       [ 2.],\n",
       "       [ 4.],\n",
       "       [ 2.]])"
      ]
     },
     "execution_count": 100,
     "metadata": {},
     "output_type": "execute_result"
    }
   ],
   "source": [
    "my_data_labels = all_data[1:,:1]\n",
    "my_data_labels"
   ]
  },
  {
   "cell_type": "code",
   "execution_count": 89,
   "metadata": {},
   "outputs": [
    {
     "name": "stdout",
     "output_type": "stream",
     "text": [
      "(7172, 784)\n"
     ]
    },
    {
     "data": {
      "text/plain": [
       "array([[149., 149., 150., ..., 112., 120., 107.],\n",
       "       [126., 128., 131., ..., 184., 182., 180.],\n",
       "       [ 85.,  88.,  92., ..., 225., 224., 222.],\n",
       "       ...,\n",
       "       [190., 191., 190., ..., 211., 209., 208.],\n",
       "       [201., 205., 208., ...,  67.,  70.,  63.],\n",
       "       [173., 174., 173., ..., 195., 193., 192.]])"
      ]
     },
     "execution_count": 89,
     "metadata": {},
     "output_type": "execute_result"
    }
   ],
   "source": [
    "# Removes the header row and the label column\n",
    "my_data = np.delete(all_data,0,1)\n",
    "my_data = np.delete(my_data,0,0)\n",
    "print(np.shape(my_data))\n",
    "my_data"
   ]
  },
  {
   "cell_type": "code",
   "execution_count": 90,
   "metadata": {},
   "outputs": [
    {
     "data": {
      "text/plain": [
       "7172"
      ]
     },
     "execution_count": 90,
     "metadata": {},
     "output_type": "execute_result"
    }
   ],
   "source": [
    "len(my_data)"
   ]
  },
  {
   "cell_type": "code",
   "execution_count": 91,
   "metadata": {},
   "outputs": [],
   "source": [
    "# # Make a 28x28 black square\n",
    "\n",
    "# w, h = 28,28\n",
    "# data = np.zeros((h, w, 255), dtype=np.uint8) \n",
    "# img = Image.fromarray(data, 'RGB')\n",
    "# # img.show()"
   ]
  },
  {
   "cell_type": "code",
   "execution_count": 92,
   "metadata": {},
   "outputs": [],
   "source": [
    "w, h = 28,28\n",
    "data = np.zeros((h, w), dtype=np.uint8)"
   ]
  },
  {
   "cell_type": "code",
   "execution_count": 93,
   "metadata": {},
   "outputs": [
    {
     "data": {
      "text/plain": [
       "(28, 28)"
      ]
     },
     "execution_count": 93,
     "metadata": {},
     "output_type": "execute_result"
    }
   ],
   "source": [
    "np.shape(data)"
   ]
  },
  {
   "cell_type": "code",
   "execution_count": 94,
   "metadata": {},
   "outputs": [],
   "source": [
    "# Fill a 28x28 array with relevant image information\n",
    "# Reminder: my_data_labels = all_data[1:,:1]\n",
    "\n",
    "\n",
    "for z in range(len(my_data)):\n",
    "    carry = -1\n",
    "    for i in range(28):\n",
    "        for j in range(28):\n",
    "            if (j==0): \n",
    "                carry = carry + 1\n",
    "    #         print(carry*28 + j)\n",
    "            data[i,j] = my_data[z][carry*28 + j]\n",
    "    img = Image.fromarray(data)\n",
    "    img.save('Dataset1/imgData/Train/'+str(int(my_data_labels[z]))+'/'+str(z)+'.png')\n",
    "#     img.show()"
   ]
  },
  {
   "cell_type": "code",
   "execution_count": 40,
   "metadata": {},
   "outputs": [],
   "source": [
    "img = Image.fromarray(data)\n",
    "# img.save('my.png')\n",
    "img.show()"
   ]
  },
  {
   "cell_type": "code",
   "execution_count": null,
   "metadata": {},
   "outputs": [],
   "source": []
  }
 ],
 "metadata": {
  "kernelspec": {
   "display_name": "Python 3",
   "language": "python",
   "name": "python3"
  },
  "language_info": {
   "codemirror_mode": {
    "name": "ipython",
    "version": 3
   },
   "file_extension": ".py",
   "mimetype": "text/x-python",
   "name": "python",
   "nbconvert_exporter": "python",
   "pygments_lexer": "ipython3",
   "version": "3.7.6"
  }
 },
 "nbformat": 4,
 "nbformat_minor": 4
}
