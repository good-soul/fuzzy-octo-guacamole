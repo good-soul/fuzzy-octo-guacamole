{
 "cells": [
  {
   "cell_type": "code",
   "execution_count": 1,
   "metadata": {},
   "outputs": [],
   "source": [
    "import cv2  \n",
    "image = cv2.imread(\"C:/Users/Deepti/Desktop/A0.jpg\") \n",
    "gray=cv2.cvtColor(image,cv2.COLOR_BGR2GRAY) \n",
    "edged = cv2.Canny(image, 10, 250) \n",
    "(cnts, _) = cv2.findContours(edged.copy(), cv2.RETR_EXTERNAL, cv2.CHAIN_APPROX_SIMPLE) \n",
    "idx = 0 \n",
    "for c in cnts: \n",
    "\tx,y,w,h = cv2.boundingRect(c) \n",
    "\tif w>50 and h>50: \n",
    "\t\tidx+=1 \n",
    "\t\tnew_img=image[y:y+h,x:x+w] \n",
    "\t\tcv2.imwrite(str(idx) + '.png', new_img) \n",
    "cv2.imshow(\"im\",image) \n",
    "cv2.waitKey(0) \n",
    "cv2.destroyAllWindows()"
   ]
  },
  {
   "cell_type": "code",
   "execution_count": null,
   "metadata": {},
   "outputs": [],
   "source": []
  }
 ],
 "metadata": {
  "kernelspec": {
   "display_name": "Python 3",
   "language": "python",
   "name": "python3"
  },
  "language_info": {
   "codemirror_mode": {
    "name": "ipython",
    "version": 3
   },
   "file_extension": ".py",
   "mimetype": "text/x-python",
   "name": "python",
   "nbconvert_exporter": "python",
   "pygments_lexer": "ipython3",
   "version": "3.7.6"
  }
 },
 "nbformat": 4,
 "nbformat_minor": 4
}
