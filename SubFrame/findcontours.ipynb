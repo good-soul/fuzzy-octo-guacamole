{
 "cells": [
  {
   "cell_type": "code",
   "execution_count": 1,
   "metadata": {},
   "outputs": [],
   "source": [
    "import cv2 \n",
    "#reading the image  \n",
    "image = cv2.imread(\"C:/Users/Deepti/Desktop/A0.jpg\") \n",
    "edged = cv2.Canny(image, 10, 250) \n",
    "cv2.imshow(\"Edges\", edged) \n",
    "cv2.waitKey(0) \n",
    "\n",
    "\n",
    "#applying closing function  \n",
    "kernel = cv2.getStructuringElement(cv2.MORPH_RECT, (7, 7)) \n",
    "closed = cv2.morphologyEx(edged, cv2.MORPH_CLOSE, kernel) \n",
    "cv2.imshow(\"Closed\", closed) \n",
    "cv2.waitKey(0) \n",
    " \n",
    "#finding_contours  \n",
    "(cnts, _) = cv2.findContours(closed.copy(), cv2.RETR_EXTERNAL, cv2.CHAIN_APPROX_SIMPLE) \n",
    " \n",
    "for c in cnts: \n",
    "\tperi = cv2.arcLength(c, True) \n",
    "\tapprox = cv2.approxPolyDP(c, 0.02 * peri, True) \n",
    "\tcv2.drawContours(image, [approx], -1, (0, 255, 0), 2) \n",
    "cv2.imshow(\"Output\", image) \n",
    "cv2.waitKey(0) \n",
    "cv2.destroyAllWindows()"
   ]
  },
  {
   "cell_type": "code",
   "execution_count": null,
   "metadata": {},
   "outputs": [],
   "source": []
  }
 ],
 "metadata": {
  "kernelspec": {
   "display_name": "Python 3",
   "language": "python",
   "name": "python3"
  },
  "language_info": {
   "codemirror_mode": {
    "name": "ipython",
    "version": 3
   },
   "file_extension": ".py",
   "mimetype": "text/x-python",
   "name": "python",
   "nbconvert_exporter": "python",
   "pygments_lexer": "ipython3",
   "version": "3.7.6"
  }
 },
 "nbformat": 4,
 "nbformat_minor": 4
}
